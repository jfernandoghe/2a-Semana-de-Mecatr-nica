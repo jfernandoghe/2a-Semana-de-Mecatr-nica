{
  "nbformat": 4,
  "nbformat_minor": 0,
  "metadata": {
    "colab": {
      "name": "2daSemanaMecatronica.ipynb",
      "provenance": [],
      "collapsed_sections": [
        "kgBA467zzTMc",
        "Gohna2S2zlR3",
        "eCdJN3YTzsl-",
        "FJjgUokVzofj",
        "Zkn21ynv58wJ",
        "9vD7_bp5zoxW",
        "NmHqSTj7tb26"
      ],
      "toc_visible": true
    },
    "kernelspec": {
      "name": "python3",
      "display_name": "Python 3"
    }
  },
  "cells": [
    {
      "cell_type": "markdown",
      "metadata": {
        "id": "kgBA467zzTMc",
        "colab_type": "text"
      },
      "source": [
        "## Introducción"
      ]
    },
    {
      "cell_type": "markdown",
      "metadata": {
        "id": "Gohna2S2zlR3",
        "colab_type": "text"
      },
      "source": [
        "### Comentarios"
      ]
    },
    {
      "cell_type": "code",
      "metadata": {
        "id": "IyvbPi-YzSUD",
        "colab_type": "code",
        "colab": {}
      },
      "source": [
        "# este es el primer comentario\n",
        "2 # y este es el segundo comentario\n",
        " # ... y ahora un tercero!\n",
        "STRING = \"# Este no es un comentario\"."
      ],
      "execution_count": 0,
      "outputs": []
    },
    {
      "cell_type": "markdown",
      "metadata": {
        "id": "eCdJN3YTzsl-",
        "colab_type": "text"
      },
      "source": [
        "### Cadena de caracteres - Strings"
      ]
    },
    {
      "cell_type": "code",
      "metadata": {
        "id": "tejwrzdizunW",
        "colab_type": "code",
        "colab": {}
      },
      "source": [
        "'huevos y pan'"
      ],
      "execution_count": 0,
      "outputs": []
    },
    {
      "cell_type": "code",
      "metadata": {
        "id": "WbvHQVtDz5y7",
        "colab_type": "code",
        "colab": {}
      },
      "source": [
        "hola = \"Esta es una larga cadena que contiene\\n\\\n",
        "varias líneas de texto, tal y como se hace en C.\\n\\\n",
        " Notar que los espacios en blanco al principio de la linea\\\n",
        " son significantes.\"\n",
        "print (hola)"
      ],
      "execution_count": 0,
      "outputs": []
    },
    {
      "cell_type": "code",
      "metadata": {
        "id": "inyMx7Kz0LAz",
        "colab_type": "code",
        "colab": {}
      },
      "source": [
        "palabra = 'Ayuda' + 'A'\n",
        "print (palabra)"
      ],
      "execution_count": 0,
      "outputs": []
    },
    {
      "cell_type": "code",
      "metadata": {
        "id": "E6nO-afy0Qdm",
        "colab_type": "code",
        "colab": {}
      },
      "source": [
        "'<' + palabra*5 + '>'"
      ],
      "execution_count": 0,
      "outputs": []
    },
    {
      "cell_type": "code",
      "metadata": {
        "id": "V5dy1C0T1XR8",
        "colab_type": "code",
        "colab": {}
      },
      "source": [
        "palabra = 'Roedor'\n",
        "palabra[0] # caracter en la posición 0"
      ],
      "execution_count": 0,
      "outputs": []
    },
    {
      "cell_type": "code",
      "metadata": {
        "id": "xEgrM_Ka1XV5",
        "colab_type": "code",
        "colab": {}
      },
      "source": [
        "# Los índices quizás sean números negativos, para empezar a contar desde la derecha:\n",
        "palabra[-1] # último caracter"
      ],
      "execution_count": 0,
      "outputs": []
    },
    {
      "cell_type": "code",
      "metadata": {
        "id": "lPJrEEP91XYl",
        "colab_type": "code",
        "colab": {}
      },
      "source": [
        "palabra[0:2]"
      ],
      "execution_count": 0,
      "outputs": []
    },
    {
      "cell_type": "code",
      "metadata": {
        "id": "OFP-XSTJ1XbL",
        "colab_type": "code",
        "colab": {}
      },
      "source": [
        "palabra[:4] + palabra[4:]"
      ],
      "execution_count": 0,
      "outputs": []
    },
    {
      "cell_type": "code",
      "metadata": {
        "id": "p3L2_Ja51ysZ",
        "colab_type": "code",
        "colab": {}
      },
      "source": [
        "'P' + palabra[1:]"
      ],
      "execution_count": 0,
      "outputs": []
    },
    {
      "cell_type": "code",
      "metadata": {
        "id": "kt1WnMAf1zBy",
        "colab_type": "code",
        "colab": {}
      },
      "source": [
        "len(palabra)"
      ],
      "execution_count": 0,
      "outputs": []
    },
    {
      "cell_type": "markdown",
      "metadata": {
        "id": "FJjgUokVzofj",
        "colab_type": "text"
      },
      "source": [
        "### Números - Listas"
      ]
    },
    {
      "cell_type": "code",
      "metadata": {
        "id": "vZCr3hMM19E4",
        "colab_type": "code",
        "colab": {}
      },
      "source": [
        "2 + 2"
      ],
      "execution_count": 0,
      "outputs": []
    },
    {
      "cell_type": "code",
      "metadata": {
        "id": "_9r7ew_Y2Kxr",
        "colab_type": "code",
        "colab": {}
      },
      "source": [
        "50 - 5*6"
      ],
      "execution_count": 0,
      "outputs": []
    },
    {
      "cell_type": "code",
      "metadata": {
        "id": "1hS6RAvx2K41",
        "colab_type": "code",
        "colab": {}
      },
      "source": [
        "8 / 5 # la división simpre retorna un número de punto flotante"
      ],
      "execution_count": 0,
      "outputs": []
    },
    {
      "cell_type": "code",
      "metadata": {
        "id": "qWPsH9KS2K7a",
        "colab_type": "code",
        "colab": {}
      },
      "source": [
        "8 // 5 # la división entera descarta la parte fraccional"
      ],
      "execution_count": 0,
      "outputs": []
    },
    {
      "cell_type": "code",
      "metadata": {
        "id": "UO8hjoZH2K-X",
        "colab_type": "code",
        "colab": {}
      },
      "source": [
        "ancho = 20\n",
        "largo = 5 * 9\n",
        "ancho * largo"
      ],
      "execution_count": 0,
      "outputs": []
    },
    {
      "cell_type": "code",
      "metadata": {
        "id": "i2uCBjq43HeN",
        "colab_type": "code",
        "colab": {}
      },
      "source": [
        "cuadrados = [1, 4, 9, 16, 25]\n",
        "cuadrados[-1]\n",
        "cuadrados[-3:] # 'slicing' retornan una nueva lista"
      ],
      "execution_count": 0,
      "outputs": []
    },
    {
      "cell_type": "code",
      "metadata": {
        "id": "vIshC6pm3Hl6",
        "colab_type": "code",
        "colab": {}
      },
      "source": [
        "cuadrados + [36, 49, 64, 81, 100] # las listas también soportan operaciones como concatenación"
      ],
      "execution_count": 0,
      "outputs": []
    },
    {
      "cell_type": "code",
      "metadata": {
        "id": "xIkPg7Mw3Hoe",
        "colab_type": "code",
        "colab": {}
      },
      "source": [
        "cubos = [1, 8, 27, 65, 125] # hay algo mal aquí\n",
        "print(cubos)"
      ],
      "execution_count": 0,
      "outputs": []
    },
    {
      "cell_type": "code",
      "metadata": {
        "id": "FU1NGuHD31OU",
        "colab_type": "code",
        "colab": {}
      },
      "source": [
        "cubos[3] = 64 # reemplazar el valor incorrecto\n",
        "print(cubos)"
      ],
      "execution_count": 0,
      "outputs": []
    },
    {
      "cell_type": "code",
      "metadata": {
        "id": "2IuiAFRP3HrR",
        "colab_type": "code",
        "colab": {}
      },
      "source": [
        "cubos.append(216) # agregar el cubo de 6\n",
        "cubos.append(7 ** 3) # y el cubo de 7\n",
        "print(cubos)"
      ],
      "execution_count": 0,
      "outputs": []
    },
    {
      "cell_type": "code",
      "metadata": {
        "id": "7mc6gXof4JQP",
        "colab_type": "code",
        "colab": {}
      },
      "source": [
        "letras = ['a', 'b', 'c', 'd', 'e', 'f', 'g']\n",
        "print (letras)"
      ],
      "execution_count": 0,
      "outputs": []
    },
    {
      "cell_type": "code",
      "metadata": {
        "id": "cWyDSywM4JS2",
        "colab_type": "code",
        "colab": {}
      },
      "source": [
        "letras[2:5] = ['C', 'D', 'E'] # reemplazar algunos valores\n",
        "print (letras)"
      ],
      "execution_count": 0,
      "outputs": []
    },
    {
      "cell_type": "code",
      "metadata": {
        "id": "OPMfAvnT4JVe",
        "colab_type": "code",
        "colab": {}
      },
      "source": [
        "letras[2:5] = [] # ahora borrarlas\n",
        "print (letras)"
      ],
      "execution_count": 0,
      "outputs": []
    },
    {
      "cell_type": "code",
      "metadata": {
        "id": "hK0mZQi34JYJ",
        "colab_type": "code",
        "colab": {}
      },
      "source": [
        "letras[:] = [] # eliminar la lista"
      ],
      "execution_count": 0,
      "outputs": []
    },
    {
      "cell_type": "code",
      "metadata": {
        "id": "z_srrL3f4Ja2",
        "colab_type": "code",
        "colab": {}
      },
      "source": [
        "a = ['a', 'b', 'c']\n",
        "n = [1, 2, 3]\n",
        "x = [a, n]\n",
        "print (x)"
      ],
      "execution_count": 0,
      "outputs": []
    },
    {
      "cell_type": "markdown",
      "metadata": {
        "id": "6QzDBTs22Dh-",
        "colab_type": "text"
      },
      "source": [
        "### Entradas y salidas"
      ]
    },
    {
      "cell_type": "code",
      "metadata": {
        "id": "3fpblOWpuIF_",
        "colab_type": "code",
        "outputId": "7a5fb39c-6db6-4d02-9930-c04c7d562635",
        "colab": {
          "base_uri": "https://localhost:8080/",
          "height": 36
        }
      },
      "source": [
        "input_string_var = input(\"Enter some data: \")"
      ],
      "execution_count": 0,
      "outputs": [
        {
          "output_type": "stream",
          "text": [
            "Enter some data: hola\n"
          ],
          "name": "stdout"
        }
      ]
    },
    {
      "cell_type": "code",
      "metadata": {
        "id": "X_gONMZ6y5e3",
        "colab_type": "code",
        "outputId": "9d678db7-0509-4d36-8723-4d6d8d2d62d9",
        "colab": {
          "base_uri": "https://localhost:8080/",
          "height": 36
        }
      },
      "source": [
        "input_string_var"
      ],
      "execution_count": 0,
      "outputs": [
        {
          "output_type": "execute_result",
          "data": {
            "text/plain": [
              "'hola'"
            ]
          },
          "metadata": {
            "tags": []
          },
          "execution_count": 2
        }
      ]
    },
    {
      "cell_type": "markdown",
      "metadata": {
        "id": "Zkn21ynv58wJ",
        "colab_type": "text"
      },
      "source": [
        "### Programación básica"
      ]
    },
    {
      "cell_type": "code",
      "metadata": {
        "id": "09LnU0z446wZ",
        "colab_type": "code",
        "colab": {}
      },
      "source": [
        "x = int(input(\"Ingresa un entero, por favor: \"))\n",
        "if x < 0:\n",
        "  x = 0\n",
        "  print('Negativo cambiado a cero')\n",
        "elif x == 0:\n",
        "  print('Cero')\n",
        "elif x == 1:\n",
        "  print('Simple')\n",
        "else:\n",
        "  print('Más')"
      ],
      "execution_count": 0,
      "outputs": []
    },
    {
      "cell_type": "code",
      "metadata": {
        "id": "anEUtuXu6AJJ",
        "colab_type": "code",
        "colab": {}
      },
      "source": [
        "for i in range(5):\n",
        "  print(i)"
      ],
      "execution_count": 0,
      "outputs": []
    },
    {
      "cell_type": "code",
      "metadata": {
        "id": "C8JQugXD6FHu",
        "colab_type": "code",
        "colab": {}
      },
      "source": [
        "a = ['Mary', 'tenia', 'un', 'corderito']\n",
        "for i in range(len(a)):\n",
        "  print(i, a[i])"
      ],
      "execution_count": 0,
      "outputs": []
    },
    {
      "cell_type": "code",
      "metadata": {
        "id": "KP77e-te6FKY",
        "colab_type": "code",
        "colab": {}
      },
      "source": [
        "for n in range(2, 10):\n",
        "  for x in range(2, n):\n",
        "    if n % x == 0:\n",
        "      print(n, 'es igual a', x, '*', n/x)\n",
        "      break\n",
        "  else:\n",
        "  # sigue el bucle sin encontrar un factor\n",
        "    print(n, 'es un numero primo')"
      ],
      "execution_count": 0,
      "outputs": []
    },
    {
      "cell_type": "markdown",
      "metadata": {
        "id": "D0mSgVTI8tiB",
        "colab_type": "text"
      },
      "source": [
        "### Paquetes, módulos, librerias\n"
      ]
    },
    {
      "cell_type": "code",
      "metadata": {
        "id": "malI7Kelc2of",
        "colab_type": "code",
        "colab": {}
      },
      "source": [
        "# !ls\n",
        "!cd sample_data && ls"
      ],
      "execution_count": 0,
      "outputs": []
    },
    {
      "cell_type": "code",
      "metadata": {
        "id": "X0BEU094d5vw",
        "colab_type": "code",
        "colab": {}
      },
      "source": [
        "!pip install numpy"
      ],
      "execution_count": 0,
      "outputs": []
    },
    {
      "cell_type": "code",
      "metadata": {
        "id": "6IETFxHn87Iy",
        "colab_type": "code",
        "colab": {}
      },
      "source": [
        "import numpy as np\n",
        "a = np.array([0, 1, 2, 3])"
      ],
      "execution_count": 0,
      "outputs": []
    },
    {
      "cell_type": "markdown",
      "metadata": {
        "id": "CWkBhB62VrOv",
        "colab_type": "text"
      },
      "source": [
        "# Otras herramientas"
      ]
    },
    {
      "cell_type": "code",
      "metadata": {
        "id": "L6KAtEjjImNO",
        "colab_type": "code",
        "colab": {}
      },
      "source": [
        "!cd sample_data/prueba/ && ls"
      ],
      "execution_count": 0,
      "outputs": []
    },
    {
      "cell_type": "code",
      "metadata": {
        "id": "KVj_9IiGWMyH",
        "colab_type": "code",
        "colab": {}
      },
      "source": [
        "!cd sample_data/prueba && wget https://www.ipn.mx/assets/files/zacatecas/docs/oferta_educativa/alimentos.pdf"
      ],
      "execution_count": 0,
      "outputs": []
    },
    {
      "cell_type": "code",
      "metadata": {
        "id": "SrlHSNjbVy9K",
        "colab_type": "code",
        "colab": {}
      },
      "source": [
        "!mkdir Repositorios && cd Repositorios/ && git clone https://github.com/jfernandoghe/2a-Semana-de-Mecatronica.git"
      ],
      "execution_count": 0,
      "outputs": []
    },
    {
      "cell_type": "code",
      "metadata": {
        "id": "Os-_bW49HjRV",
        "colab_type": "code",
        "colab": {}
      },
      "source": [
        "def fib(n):\n",
        "    a, b = 0,1\n",
        "    while a < n:\n",
        "        print(a, end=' ')\n",
        "        a, b = b, a + b\n",
        "m = int(input(\"Límite: \"))     \n",
        "fib(m)"
      ],
      "execution_count": 0,
      "outputs": []
    },
    {
      "cell_type": "markdown",
      "metadata": {
        "id": "9vD7_bp5zoxW",
        "colab_type": "text"
      },
      "source": [
        "# Estimación en base a estadística básica"
      ]
    },
    {
      "cell_type": "markdown",
      "metadata": {
        "id": "Mv-h4YnHzzEY",
        "colab_type": "text"
      },
      "source": [
        "### Librerias"
      ]
    },
    {
      "cell_type": "code",
      "metadata": {
        "id": "s6a3ceQazsP9",
        "colab_type": "code",
        "colab": {}
      },
      "source": [
        "import matplotlib.pyplot as plt\n",
        "import numpy as np\n",
        "from sklearn import datasets, linear_model\n",
        "from sklearn.metrics import mean_squared_error, r2_score"
      ],
      "execution_count": 0,
      "outputs": []
    },
    {
      "cell_type": "markdown",
      "metadata": {
        "id": "o3LRimJh6y8d",
        "colab_type": "text"
      },
      "source": [
        "### Arreglos"
      ]
    },
    {
      "cell_type": "code",
      "metadata": {
        "id": "8VuT3f5qz6Wn",
        "colab_type": "code",
        "colab": {}
      },
      "source": [
        "# Definir arreglos\n",
        "x = np.array([1, 3, 5, 7, 9])     # Entradas\n",
        "y = np.array([1, 9, 26, 49, 82])  # Salidas"
      ],
      "execution_count": 0,
      "outputs": []
    },
    {
      "cell_type": "markdown",
      "metadata": {
        "id": "N9e2uEN362c-",
        "colab_type": "text"
      },
      "source": [
        "### Mostrar datos"
      ]
    },
    {
      "cell_type": "code",
      "metadata": {
        "id": "VfstnsLoz3VR",
        "colab_type": "code",
        "outputId": "de921f5f-28be-4756-aca8-d33bd0d51ae4",
        "colab": {
          "base_uri": "https://localhost:8080/",
          "height": 265
        }
      },
      "source": [
        "# Representar los datos\n",
        "plt.plot(x, y, 'o', label='Original data', markersize=10)\n",
        "plt.legend()\n",
        "plt.show()"
      ],
      "execution_count": 0,
      "outputs": [
        {
          "output_type": "display_data",
          "data": {
            "image/png": "[encoded data removed]",
            "text/plain": [
              "<Figure size 432x288 with 1 Axes>"
            ]
          },
          "metadata": {
            "tags": []
          }
        }
      ]
    },
    {
      "cell_type": "markdown",
      "metadata": {
        "id": "6W21UcEj66XN",
        "colab_type": "text"
      },
      "source": [
        "### Importar modelo de mínimos cuadrados"
      ]
    },
    {
      "cell_type": "code",
      "metadata": {
        "id": "8AatFs7j0um-",
        "colab_type": "code",
        "colab": {}
      },
      "source": [
        "import numpy.linalg as lalg                 # Llamar mínimos cuadrados en numpy\n",
        "A = np.vstack([x, np.ones(len(x))]).T       # Modificar x \n",
        "m, c = np.linalg.lstsq(A, y, rcond=None)[0]"
      ],
      "execution_count": 0,
      "outputs": []
    },
    {
      "cell_type": "markdown",
      "metadata": {
        "id": "XoCwuyWw67Nc",
        "colab_type": "text"
      },
      "source": [
        "### Visualizar resultado"
      ]
    },
    {
      "cell_type": "code",
      "metadata": {
        "id": "DZRpHnxy0yVF",
        "colab_type": "code",
        "colab": {}
      },
      "source": [
        "# Visualizar los datos\n",
        "plt.plot(x, y, 'o', label='Original data', markersize=10)\n",
        "plt.plot(x, m*x + c, 'r', label='Fitted line')\n",
        "plt.legend()\n",
        "plt.show()"
      ],
      "execution_count": 0,
      "outputs": []
    },
    {
      "cell_type": "markdown",
      "metadata": {
        "id": "NmHqSTj7tb26",
        "colab_type": "text"
      },
      "source": [
        "# Estimación en base a estadística usando librerias"
      ]
    },
    {
      "cell_type": "markdown",
      "metadata": {
        "id": "dsRvYgF_yH0t",
        "colab_type": "text"
      },
      "source": [
        "### Importar librerias"
      ]
    },
    {
      "cell_type": "code",
      "metadata": {
        "id": "oJzmRulOxrcC",
        "colab_type": "code",
        "colab": {}
      },
      "source": [
        "import numpy as np                # Librería cálculo de matrices\n",
        "import matplotlib.pyplot as plt   # Para crear gráficos con matplotlib\n",
        "from sklearn.linear_model import LinearRegression   # Regresión Lineal "
      ],
      "execution_count": 0,
      "outputs": []
    },
    {
      "cell_type": "markdown",
      "metadata": {
        "id": "BwX6MX6SyLW-",
        "colab_type": "text"
      },
      "source": [
        "### Funciones para generar ruido"
      ]
    },
    {
      "cell_type": "code",
      "metadata": {
        "id": "McF27lS4x6jH",
        "colab_type": "code",
        "colab": {}
      },
      "source": [
        "def f(x1):  # función f(x) = 0.1*x + 1.25 + 0.2*Ruido_Gaussiano\n",
        "    np.random.seed(42) # para poder reproducirlo\n",
        "    y1 = 0.1*x1 + 1.25 + 0.2*np.random.randn(x1.shape[0])\n",
        "    return y1"
      ],
      "execution_count": 0,
      "outputs": []
    },
    {
      "cell_type": "markdown",
      "metadata": {
        "id": "-ek8kVD7yPkg",
        "colab_type": "text"
      },
      "source": [
        "### Generar datos"
      ]
    },
    {
      "cell_type": "code",
      "metadata": {
        "id": "eDlYLh5Wx8Eg",
        "colab_type": "code",
        "colab": {}
      },
      "source": [
        "x2 = np.arange(0, 20, 0.5)      # Generar valores x de 0 a 20 en intervalos de 0.5\n",
        "y2 = f(x2)                      # Calculamos y a partir de la función que hemos generado\n",
        "plt.scatter(x2, y2, label='data', color='blue')   # Tipo de gráfica\n",
        "plt.title('Datos');                               # Leyenda             "
      ],
      "execution_count": 0,
      "outputs": []
    },
    {
      "cell_type": "code",
      "metadata": {
        "id": "V-x_zvBfywmz",
        "colab_type": "code",
        "colab": {}
      },
      "source": [
        "regresion_lineal = LinearRegression() # creamos una instancia de LinearRegression\n",
        "# instruimos a la regresión lineal que aprenda de los datos (x,y)\n",
        "regresion_lineal.fit(x2.reshape(-1,1), y2) \n",
        "# vemos los parámetros que ha estimado la regresión lineal\n",
        "print('w = ' + str(regresion_lineal.coef_) + ', b = ' + str(regresion_lineal.intercept_))\n",
        "# Tenemos los parámetros\n",
        "m2 = regresion_lineal.coef_[0]"
      ],
      "execution_count": 0,
      "outputs": []
    },
    {
      "cell_type": "markdown",
      "metadata": {
        "id": "i3IyGjyZ7HlG",
        "colab_type": "text"
      },
      "source": [
        "### Visualizar"
      ]
    },
    {
      "cell_type": "code",
      "metadata": {
        "id": "_cwCzmNB7HtO",
        "colab_type": "code",
        "colab": {}
      },
      "source": [
        "# Visualizar los datos\n",
        "plt.plot(x2, y2, 'o', label='Original data', markersize=10)\n",
        "plt.plot(x2, regresion_lineal.predict(x2.reshape(-1,1)), color = 'blue')\n",
        "plt.legend()\n",
        "plt.show()"
      ],
      "execution_count": 0,
      "outputs": []
    }
  ]
}