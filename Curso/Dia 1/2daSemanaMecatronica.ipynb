{
  "nbformat": 4,
  "nbformat_minor": 0,
  "metadata": {
    "colab": {
      "name": "2daSemanaMecatronica.ipynb",
      "provenance": [],
      "collapsed_sections": [
        "Gohna2S2zlR3",
        "eCdJN3YTzsl-",
        "FJjgUokVzofj",
        "6QzDBTs22Dh-"
      ]
    },
    "kernelspec": {
      "name": "python3",
      "display_name": "Python 3"
    }
  },
  "cells": [
    {
      "cell_type": "markdown",
      "metadata": {
        "id": "kgBA467zzTMc",
        "colab_type": "text"
      },
      "source": [
        "## Introducción"
      ]
    },
    {
      "cell_type": "markdown",
      "metadata": {
        "id": "Gohna2S2zlR3",
        "colab_type": "text"
      },
      "source": [
        "### Comentarios"
      ]
    },
    {
      "cell_type": "code",
      "metadata": {
        "id": "IyvbPi-YzSUD",
        "colab_type": "code",
        "colab": {}
      },
      "source": [
        "# este es el primer comentario\n",
        "2 # y este es el segundo comentario\n",
        " # ... y ahora un tercero!\n",
        "STRING = \"# Este no es un comentario\"."
      ],
      "execution_count": 0,
      "outputs": []
    },
    {
      "cell_type": "markdown",
      "metadata": {
        "id": "eCdJN3YTzsl-",
        "colab_type": "text"
      },
      "source": [
        "### Cadena de caracteres - Strings"
      ]
    },
    {
      "cell_type": "code",
      "metadata": {
        "id": "tejwrzdizunW",
        "colab_type": "code",
        "colab": {}
      },
      "source": [
        "'huevos y pan'"
      ],
      "execution_count": 0,
      "outputs": []
    },
    {
      "cell_type": "code",
      "metadata": {
        "id": "WbvHQVtDz5y7",
        "colab_type": "code",
        "colab": {}
      },
      "source": [
        "hola = \"Esta es una larga cadena que contiene\\n\\\n",
        "varias líneas de texto, tal y como se hace en C.\\n\\\n",
        " Notar que los espacios en blanco al principio de la linea\\\n",
        " son significantes.\"\n",
        "print (hola)"
      ],
      "execution_count": 0,
      "outputs": []
    },
    {
      "cell_type": "code",
      "metadata": {
        "id": "inyMx7Kz0LAz",
        "colab_type": "code",
        "colab": {}
      },
      "source": [
        "palabra = 'Ayuda' + 'A'\n",
        "print (palabra)"
      ],
      "execution_count": 0,
      "outputs": []
    },
    {
      "cell_type": "code",
      "metadata": {
        "id": "E6nO-afy0Qdm",
        "colab_type": "code",
        "colab": {}
      },
      "source": [
        "'<' + palabra*5 + '>'"
      ],
      "execution_count": 0,
      "outputs": []
    },
    {
      "cell_type": "code",
      "metadata": {
        "id": "V5dy1C0T1XR8",
        "colab_type": "code",
        "colab": {}
      },
      "source": [
        "palabra = 'Roedor'\n",
        "palabra[0] # caracter en la posición 0"
      ],
      "execution_count": 0,
      "outputs": []
    },
    {
      "cell_type": "code",
      "metadata": {
        "id": "xEgrM_Ka1XV5",
        "colab_type": "code",
        "colab": {}
      },
      "source": [
        "# Los índices quizás sean números negativos, para empezar a contar desde la derecha:\n",
        "palabra[-1] # último caracter"
      ],
      "execution_count": 0,
      "outputs": []
    },
    {
      "cell_type": "code",
      "metadata": {
        "id": "lPJrEEP91XYl",
        "colab_type": "code",
        "colab": {}
      },
      "source": [
        "palabra[0:2]"
      ],
      "execution_count": 0,
      "outputs": []
    },
    {
      "cell_type": "code",
      "metadata": {
        "id": "OFP-XSTJ1XbL",
        "colab_type": "code",
        "colab": {}
      },
      "source": [
        "palabra[:4] + palabra[4:]"
      ],
      "execution_count": 0,
      "outputs": []
    },
    {
      "cell_type": "code",
      "metadata": {
        "id": "p3L2_Ja51ysZ",
        "colab_type": "code",
        "colab": {}
      },
      "source": [
        "'P' + palabra[1:]"
      ],
      "execution_count": 0,
      "outputs": []
    },
    {
      "cell_type": "code",
      "metadata": {
        "id": "kt1WnMAf1zBy",
        "colab_type": "code",
        "colab": {}
      },
      "source": [
        "len(palabra)"
      ],
      "execution_count": 0,
      "outputs": []
    },
    {
      "cell_type": "markdown",
      "metadata": {
        "id": "FJjgUokVzofj",
        "colab_type": "text"
      },
      "source": [
        "### Números - Listas"
      ]
    },
    {
      "cell_type": "code",
      "metadata": {
        "id": "vZCr3hMM19E4",
        "colab_type": "code",
        "colab": {}
      },
      "source": [
        "2 + 2"
      ],
      "execution_count": 0,
      "outputs": []
    },
    {
      "cell_type": "code",
      "metadata": {
        "id": "_9r7ew_Y2Kxr",
        "colab_type": "code",
        "colab": {}
      },
      "source": [
        "50 - 5*6"
      ],
      "execution_count": 0,
      "outputs": []
    },
    {
      "cell_type": "code",
      "metadata": {
        "id": "1hS6RAvx2K41",
        "colab_type": "code",
        "colab": {}
      },
      "source": [
        "8 / 5 # la división simpre retorna un número de punto flotante"
      ],
      "execution_count": 0,
      "outputs": []
    },
    {
      "cell_type": "code",
      "metadata": {
        "id": "qWPsH9KS2K7a",
        "colab_type": "code",
        "colab": {}
      },
      "source": [
        "8 // 5 # la división entera descarta la parte fraccional"
      ],
      "execution_count": 0,
      "outputs": []
    },
    {
      "cell_type": "code",
      "metadata": {
        "id": "UO8hjoZH2K-X",
        "colab_type": "code",
        "colab": {}
      },
      "source": [
        "ancho = 20\n",
        "largo = 5 * 9\n",
        "ancho * largo"
      ],
      "execution_count": 0,
      "outputs": []
    },
    {
      "cell_type": "code",
      "metadata": {
        "id": "i2uCBjq43HeN",
        "colab_type": "code",
        "colab": {}
      },
      "source": [
        "cuadrados = [1, 4, 9, 16, 25]\n",
        "cuadrados[-1]\n",
        "cuadrados[-3:] # 'slicing' retornan una nueva lista"
      ],
      "execution_count": 0,
      "outputs": []
    },
    {
      "cell_type": "code",
      "metadata": {
        "id": "vIshC6pm3Hl6",
        "colab_type": "code",
        "colab": {}
      },
      "source": [
        "cuadrados + [36, 49, 64, 81, 100] # las listas también soportan operaciones como concatenación"
      ],
      "execution_count": 0,
      "outputs": []
    },
    {
      "cell_type": "code",
      "metadata": {
        "id": "xIkPg7Mw3Hoe",
        "colab_type": "code",
        "colab": {}
      },
      "source": [
        "cubos = [1, 8, 27, 65, 125] # hay algo mal aquí\n",
        "print(cubos)"
      ],
      "execution_count": 0,
      "outputs": []
    },
    {
      "cell_type": "code",
      "metadata": {
        "id": "FU1NGuHD31OU",
        "colab_type": "code",
        "colab": {}
      },
      "source": [
        "cubos[3] = 64 # reemplazar el valor incorrecto\n",
        "print(cubos)"
      ],
      "execution_count": 0,
      "outputs": []
    },
    {
      "cell_type": "code",
      "metadata": {
        "id": "2IuiAFRP3HrR",
        "colab_type": "code",
        "colab": {}
      },
      "source": [
        "cubos.append(216) # agregar el cubo de 6\n",
        "cubos.append(7 ** 3) # y el cubo de 7\n",
        "print(cubos)"
      ],
      "execution_count": 0,
      "outputs": []
    },
    {
      "cell_type": "code",
      "metadata": {
        "id": "7mc6gXof4JQP",
        "colab_type": "code",
        "colab": {}
      },
      "source": [
        "letras = ['a', 'b', 'c', 'd', 'e', 'f', 'g']\n",
        "print (letras)"
      ],
      "execution_count": 0,
      "outputs": []
    },
    {
      "cell_type": "code",
      "metadata": {
        "id": "cWyDSywM4JS2",
        "colab_type": "code",
        "colab": {}
      },
      "source": [
        "letras[2:5] = ['C', 'D', 'E'] # reemplazar algunos valores\n",
        "print (letras)"
      ],
      "execution_count": 0,
      "outputs": []
    },
    {
      "cell_type": "code",
      "metadata": {
        "id": "OPMfAvnT4JVe",
        "colab_type": "code",
        "colab": {}
      },
      "source": [
        "letras[2:5] = [] # ahora borrarlas\n",
        "print (letras)"
      ],
      "execution_count": 0,
      "outputs": []
    },
    {
      "cell_type": "code",
      "metadata": {
        "id": "hK0mZQi34JYJ",
        "colab_type": "code",
        "colab": {}
      },
      "source": [
        "letras[:] = [] # eliminar la lista"
      ],
      "execution_count": 0,
      "outputs": []
    },
    {
      "cell_type": "code",
      "metadata": {
        "id": "z_srrL3f4Ja2",
        "colab_type": "code",
        "colab": {}
      },
      "source": [
        "a = ['a', 'b', 'c']\n",
        "n = [1, 2, 3]\n",
        "x = [a, n]\n",
        "print (x)"
      ],
      "execution_count": 0,
      "outputs": []
    },
    {
      "cell_type": "markdown",
      "metadata": {
        "id": "6QzDBTs22Dh-",
        "colab_type": "text"
      },
      "source": [
        "### Entradas y salidas"
      ]
    },
    {
      "cell_type": "code",
      "metadata": {
        "id": "3fpblOWpuIF_",
        "colab_type": "code",
        "colab": {}
      },
      "source": [
        "input_string_var = input(\"Enter some data: \")"
      ],
      "execution_count": 0,
      "outputs": []
    },
    {
      "cell_type": "code",
      "metadata": {
        "id": "X_gONMZ6y5e3",
        "colab_type": "code",
        "colab": {}
      },
      "source": [
        "input_string_var"
      ],
      "execution_count": 0,
      "outputs": []
    },
    {
      "cell_type": "code",
      "metadata": {
        "id": "TnG2sLtB4pCS",
        "colab_type": "code",
        "colab": {}
      },
      "source": [
        "print(input_string_var)"
      ],
      "execution_count": 0,
      "outputs": []
    },
    {
      "cell_type": "markdown",
      "metadata": {
        "id": "Zkn21ynv58wJ",
        "colab_type": "text"
      },
      "source": [
        "### Programación básica"
      ]
    },
    {
      "cell_type": "code",
      "metadata": {
        "id": "09LnU0z446wZ",
        "colab_type": "code",
        "colab": {}
      },
      "source": [
        "x = int(input(\"Ingresa un entero, por favor: \"))\n",
        "if x < 0:\n",
        "  x = 0\n",
        "  print('Negativo cambiado a cero')\n",
        "elif x == 0:\n",
        "  print('Cero')\n",
        "elif x == 1:\n",
        "  print('Simple')\n",
        "else:\n",
        "  print('Más')"
      ],
      "execution_count": 0,
      "outputs": []
    },
    {
      "cell_type": "code",
      "metadata": {
        "id": "anEUtuXu6AJJ",
        "colab_type": "code",
        "colab": {}
      },
      "source": [
        "for i in range(5):\n",
        "  print(i)"
      ],
      "execution_count": 0,
      "outputs": []
    },
    {
      "cell_type": "code",
      "metadata": {
        "id": "C8JQugXD6FHu",
        "colab_type": "code",
        "colab": {}
      },
      "source": [
        "a = ['Mary', 'tenia', 'un', 'corderito']\n",
        "for i in range(len(a)):\n",
        "  print(i, a[i])"
      ],
      "execution_count": 0,
      "outputs": []
    },
    {
      "cell_type": "code",
      "metadata": {
        "id": "KP77e-te6FKY",
        "colab_type": "code",
        "colab": {}
      },
      "source": [
        "for n in range(2, 10):\n",
        "  for x in range(2, n):\n",
        "    if n % x == 0:\n",
        "      print(n, 'es igual a', x, '*', n/x)\n",
        "      break\n",
        "  else:\n",
        "  # sigue el bucle sin encontrar un factor\n",
        "    print(n, 'es un numero primo')"
      ],
      "execution_count": 0,
      "outputs": []
    },
    {
      "cell_type": "markdown",
      "metadata": {
        "id": "D0mSgVTI8tiB",
        "colab_type": "text"
      },
      "source": [
        "## Paquetes, módulos, librerias\n"
      ]
    },
    {
      "cell_type": "code",
      "metadata": {
        "id": "6IETFxHn87Iy",
        "colab_type": "code",
        "colab": {}
      },
      "source": [
        "import numpy as np\n",
        "a = np.array([0, 1, 2, 3])"
      ],
      "execution_count": 0,
      "outputs": []
    }
  ]
}